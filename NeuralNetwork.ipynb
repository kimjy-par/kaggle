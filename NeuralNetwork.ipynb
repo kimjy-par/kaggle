{
 "cells": [
  {
   "cell_type": "code",
   "execution_count": 2,
   "id": "dbc5c28a",
   "metadata": {},
   "outputs": [],
   "source": [
    "import os\n",
    "\n",
    "import pandas as pd\n",
    "import tensorflow as tf\n",
    "import numpy as np\n",
    "\n",
    "from keras import optimizers\n",
    "from sklearn.preprocessing import MinMaxScaler"
   ]
  },
  {
   "cell_type": "code",
   "execution_count": 3,
   "id": "974cc69f",
   "metadata": {},
   "outputs": [],
   "source": [
    "os.environ[\"CUDA_VISIBLE_DEVICES\"] = \"-1\"\n",
    "os.environ['TF_CPP_MIN_LOG_LEVEL'] = '3'"
   ]
  },
  {
   "cell_type": "code",
   "execution_count": 4,
   "id": "cc042479",
   "metadata": {},
   "outputs": [],
   "source": [
    "train_data=pd.read_csv(\"./data/train.csv\")\n",
    "test_data=pd.read_csv(\"./data/test.csv\")\n",
    "answer_data = pd.read_csv(\"./data/gender_submission.csv\")"
   ]
  },
  {
   "cell_type": "code",
   "execution_count": 5,
   "id": "4c21a02a",
   "metadata": {},
   "outputs": [
    {
     "data": {
      "text/html": [
       "<div>\n",
       "<style scoped>\n",
       "    .dataframe tbody tr th:only-of-type {\n",
       "        vertical-align: middle;\n",
       "    }\n",
       "\n",
       "    .dataframe tbody tr th {\n",
       "        vertical-align: top;\n",
       "    }\n",
       "\n",
       "    .dataframe thead th {\n",
       "        text-align: right;\n",
       "    }\n",
       "</style>\n",
       "<table border=\"1\" class=\"dataframe\">\n",
       "  <thead>\n",
       "    <tr style=\"text-align: right;\">\n",
       "      <th></th>\n",
       "      <th>PassengerId</th>\n",
       "      <th>Pclass</th>\n",
       "      <th>Name</th>\n",
       "      <th>Sex</th>\n",
       "      <th>Age</th>\n",
       "      <th>SibSp</th>\n",
       "      <th>Parch</th>\n",
       "      <th>Ticket</th>\n",
       "      <th>Fare</th>\n",
       "      <th>Cabin</th>\n",
       "      <th>Embarked</th>\n",
       "    </tr>\n",
       "  </thead>\n",
       "  <tbody>\n",
       "    <tr>\n",
       "      <th>0</th>\n",
       "      <td>892</td>\n",
       "      <td>3</td>\n",
       "      <td>Kelly, Mr. James</td>\n",
       "      <td>male</td>\n",
       "      <td>34.5</td>\n",
       "      <td>0</td>\n",
       "      <td>0</td>\n",
       "      <td>330911</td>\n",
       "      <td>7.8292</td>\n",
       "      <td>NaN</td>\n",
       "      <td>Q</td>\n",
       "    </tr>\n",
       "    <tr>\n",
       "      <th>1</th>\n",
       "      <td>893</td>\n",
       "      <td>3</td>\n",
       "      <td>Wilkes, Mrs. James (Ellen Needs)</td>\n",
       "      <td>female</td>\n",
       "      <td>47.0</td>\n",
       "      <td>1</td>\n",
       "      <td>0</td>\n",
       "      <td>363272</td>\n",
       "      <td>7.0000</td>\n",
       "      <td>NaN</td>\n",
       "      <td>S</td>\n",
       "    </tr>\n",
       "    <tr>\n",
       "      <th>2</th>\n",
       "      <td>894</td>\n",
       "      <td>2</td>\n",
       "      <td>Myles, Mr. Thomas Francis</td>\n",
       "      <td>male</td>\n",
       "      <td>62.0</td>\n",
       "      <td>0</td>\n",
       "      <td>0</td>\n",
       "      <td>240276</td>\n",
       "      <td>9.6875</td>\n",
       "      <td>NaN</td>\n",
       "      <td>Q</td>\n",
       "    </tr>\n",
       "    <tr>\n",
       "      <th>3</th>\n",
       "      <td>895</td>\n",
       "      <td>3</td>\n",
       "      <td>Wirz, Mr. Albert</td>\n",
       "      <td>male</td>\n",
       "      <td>27.0</td>\n",
       "      <td>0</td>\n",
       "      <td>0</td>\n",
       "      <td>315154</td>\n",
       "      <td>8.6625</td>\n",
       "      <td>NaN</td>\n",
       "      <td>S</td>\n",
       "    </tr>\n",
       "    <tr>\n",
       "      <th>4</th>\n",
       "      <td>896</td>\n",
       "      <td>3</td>\n",
       "      <td>Hirvonen, Mrs. Alexander (Helga E Lindqvist)</td>\n",
       "      <td>female</td>\n",
       "      <td>22.0</td>\n",
       "      <td>1</td>\n",
       "      <td>1</td>\n",
       "      <td>3101298</td>\n",
       "      <td>12.2875</td>\n",
       "      <td>NaN</td>\n",
       "      <td>S</td>\n",
       "    </tr>\n",
       "    <tr>\n",
       "      <th>...</th>\n",
       "      <td>...</td>\n",
       "      <td>...</td>\n",
       "      <td>...</td>\n",
       "      <td>...</td>\n",
       "      <td>...</td>\n",
       "      <td>...</td>\n",
       "      <td>...</td>\n",
       "      <td>...</td>\n",
       "      <td>...</td>\n",
       "      <td>...</td>\n",
       "      <td>...</td>\n",
       "    </tr>\n",
       "    <tr>\n",
       "      <th>413</th>\n",
       "      <td>1305</td>\n",
       "      <td>3</td>\n",
       "      <td>Spector, Mr. Woolf</td>\n",
       "      <td>male</td>\n",
       "      <td>NaN</td>\n",
       "      <td>0</td>\n",
       "      <td>0</td>\n",
       "      <td>A.5. 3236</td>\n",
       "      <td>8.0500</td>\n",
       "      <td>NaN</td>\n",
       "      <td>S</td>\n",
       "    </tr>\n",
       "    <tr>\n",
       "      <th>414</th>\n",
       "      <td>1306</td>\n",
       "      <td>1</td>\n",
       "      <td>Oliva y Ocana, Dona. Fermina</td>\n",
       "      <td>female</td>\n",
       "      <td>39.0</td>\n",
       "      <td>0</td>\n",
       "      <td>0</td>\n",
       "      <td>PC 17758</td>\n",
       "      <td>108.9000</td>\n",
       "      <td>C105</td>\n",
       "      <td>C</td>\n",
       "    </tr>\n",
       "    <tr>\n",
       "      <th>415</th>\n",
       "      <td>1307</td>\n",
       "      <td>3</td>\n",
       "      <td>Saether, Mr. Simon Sivertsen</td>\n",
       "      <td>male</td>\n",
       "      <td>38.5</td>\n",
       "      <td>0</td>\n",
       "      <td>0</td>\n",
       "      <td>SOTON/O.Q. 3101262</td>\n",
       "      <td>7.2500</td>\n",
       "      <td>NaN</td>\n",
       "      <td>S</td>\n",
       "    </tr>\n",
       "    <tr>\n",
       "      <th>416</th>\n",
       "      <td>1308</td>\n",
       "      <td>3</td>\n",
       "      <td>Ware, Mr. Frederick</td>\n",
       "      <td>male</td>\n",
       "      <td>NaN</td>\n",
       "      <td>0</td>\n",
       "      <td>0</td>\n",
       "      <td>359309</td>\n",
       "      <td>8.0500</td>\n",
       "      <td>NaN</td>\n",
       "      <td>S</td>\n",
       "    </tr>\n",
       "    <tr>\n",
       "      <th>417</th>\n",
       "      <td>1309</td>\n",
       "      <td>3</td>\n",
       "      <td>Peter, Master. Michael J</td>\n",
       "      <td>male</td>\n",
       "      <td>NaN</td>\n",
       "      <td>1</td>\n",
       "      <td>1</td>\n",
       "      <td>2668</td>\n",
       "      <td>22.3583</td>\n",
       "      <td>NaN</td>\n",
       "      <td>C</td>\n",
       "    </tr>\n",
       "  </tbody>\n",
       "</table>\n",
       "<p>418 rows × 11 columns</p>\n",
       "</div>"
      ],
      "text/plain": [
       "     PassengerId  Pclass                                          Name  \\\n",
       "0            892       3                              Kelly, Mr. James   \n",
       "1            893       3              Wilkes, Mrs. James (Ellen Needs)   \n",
       "2            894       2                     Myles, Mr. Thomas Francis   \n",
       "3            895       3                              Wirz, Mr. Albert   \n",
       "4            896       3  Hirvonen, Mrs. Alexander (Helga E Lindqvist)   \n",
       "..           ...     ...                                           ...   \n",
       "413         1305       3                            Spector, Mr. Woolf   \n",
       "414         1306       1                  Oliva y Ocana, Dona. Fermina   \n",
       "415         1307       3                  Saether, Mr. Simon Sivertsen   \n",
       "416         1308       3                           Ware, Mr. Frederick   \n",
       "417         1309       3                      Peter, Master. Michael J   \n",
       "\n",
       "        Sex   Age  SibSp  Parch              Ticket      Fare Cabin Embarked  \n",
       "0      male  34.5      0      0              330911    7.8292   NaN        Q  \n",
       "1    female  47.0      1      0              363272    7.0000   NaN        S  \n",
       "2      male  62.0      0      0              240276    9.6875   NaN        Q  \n",
       "3      male  27.0      0      0              315154    8.6625   NaN        S  \n",
       "4    female  22.0      1      1             3101298   12.2875   NaN        S  \n",
       "..      ...   ...    ...    ...                 ...       ...   ...      ...  \n",
       "413    male   NaN      0      0           A.5. 3236    8.0500   NaN        S  \n",
       "414  female  39.0      0      0            PC 17758  108.9000  C105        C  \n",
       "415    male  38.5      0      0  SOTON/O.Q. 3101262    7.2500   NaN        S  \n",
       "416    male   NaN      0      0              359309    8.0500   NaN        S  \n",
       "417    male   NaN      1      1                2668   22.3583   NaN        C  \n",
       "\n",
       "[418 rows x 11 columns]"
      ]
     },
     "execution_count": 5,
     "metadata": {},
     "output_type": "execute_result"
    }
   ],
   "source": [
    "test_data"
   ]
  },
  {
   "cell_type": "code",
   "execution_count": 16,
   "id": "b7f0798e",
   "metadata": {},
   "outputs": [
    {
     "data": {
      "text/plain": [
       "Index(['PassengerId', 'Survived', 'Pclass', 'Name', 'Sex', 'Age', 'SibSp',\n",
       "       'Parch', 'Ticket', 'Fare', 'Cabin', 'Embarked'],\n",
       "      dtype='object')"
      ]
     },
     "execution_count": 16,
     "metadata": {},
     "output_type": "execute_result"
    }
   ],
   "source": [
    "train_data.columns"
   ]
  },
  {
   "cell_type": "code",
   "execution_count": 73,
   "id": "59b4c98f",
   "metadata": {},
   "outputs": [],
   "source": [
    "x_columns=[\"Pclass\", \"Sex\", \"Age\", \"SibSp\", \"Parch\"]"
   ]
  },
  {
   "cell_type": "code",
   "execution_count": 74,
   "id": "c63c4eaa",
   "metadata": {},
   "outputs": [
    {
     "data": {
      "text/plain": [
       "['Pclass', 'Sex', 'Age', 'SibSp', 'Parch']"
      ]
     },
     "execution_count": 74,
     "metadata": {},
     "output_type": "execute_result"
    }
   ],
   "source": [
    "x_columns"
   ]
  },
  {
   "cell_type": "code",
   "execution_count": 231,
   "id": "c8121733",
   "metadata": {},
   "outputs": [],
   "source": [
    "y_columns = train_data.columns[1]"
   ]
  },
  {
   "cell_type": "code",
   "execution_count": 232,
   "id": "1a669cd9",
   "metadata": {},
   "outputs": [],
   "source": [
    "x_train = train_data[x_columns]"
   ]
  },
  {
   "cell_type": "code",
   "execution_count": 233,
   "id": "ec65ddeb",
   "metadata": {},
   "outputs": [],
   "source": [
    "y_train = train_data[y_columns]"
   ]
  },
  {
   "cell_type": "code",
   "execution_count": 234,
   "id": "1325e43a",
   "metadata": {},
   "outputs": [],
   "source": [
    "x_test = test_data[x_columns]"
   ]
  },
  {
   "cell_type": "code",
   "execution_count": 235,
   "id": "38553000",
   "metadata": {},
   "outputs": [],
   "source": [
    "y_test = answer_data[y_columns]"
   ]
  },
  {
   "cell_type": "code",
   "execution_count": 236,
   "id": "5599328f",
   "metadata": {},
   "outputs": [
    {
     "data": {
      "text/html": [
       "<div>\n",
       "<style scoped>\n",
       "    .dataframe tbody tr th:only-of-type {\n",
       "        vertical-align: middle;\n",
       "    }\n",
       "\n",
       "    .dataframe tbody tr th {\n",
       "        vertical-align: top;\n",
       "    }\n",
       "\n",
       "    .dataframe thead th {\n",
       "        text-align: right;\n",
       "    }\n",
       "</style>\n",
       "<table border=\"1\" class=\"dataframe\">\n",
       "  <thead>\n",
       "    <tr style=\"text-align: right;\">\n",
       "      <th></th>\n",
       "      <th>Pclass</th>\n",
       "      <th>Sex</th>\n",
       "      <th>Age</th>\n",
       "      <th>SibSp</th>\n",
       "      <th>Parch</th>\n",
       "    </tr>\n",
       "  </thead>\n",
       "  <tbody>\n",
       "    <tr>\n",
       "      <th>0</th>\n",
       "      <td>3</td>\n",
       "      <td>male</td>\n",
       "      <td>34.5</td>\n",
       "      <td>0</td>\n",
       "      <td>0</td>\n",
       "    </tr>\n",
       "    <tr>\n",
       "      <th>1</th>\n",
       "      <td>3</td>\n",
       "      <td>female</td>\n",
       "      <td>47.0</td>\n",
       "      <td>1</td>\n",
       "      <td>0</td>\n",
       "    </tr>\n",
       "    <tr>\n",
       "      <th>2</th>\n",
       "      <td>2</td>\n",
       "      <td>male</td>\n",
       "      <td>62.0</td>\n",
       "      <td>0</td>\n",
       "      <td>0</td>\n",
       "    </tr>\n",
       "    <tr>\n",
       "      <th>3</th>\n",
       "      <td>3</td>\n",
       "      <td>male</td>\n",
       "      <td>27.0</td>\n",
       "      <td>0</td>\n",
       "      <td>0</td>\n",
       "    </tr>\n",
       "    <tr>\n",
       "      <th>4</th>\n",
       "      <td>3</td>\n",
       "      <td>female</td>\n",
       "      <td>22.0</td>\n",
       "      <td>1</td>\n",
       "      <td>1</td>\n",
       "    </tr>\n",
       "    <tr>\n",
       "      <th>...</th>\n",
       "      <td>...</td>\n",
       "      <td>...</td>\n",
       "      <td>...</td>\n",
       "      <td>...</td>\n",
       "      <td>...</td>\n",
       "    </tr>\n",
       "    <tr>\n",
       "      <th>413</th>\n",
       "      <td>3</td>\n",
       "      <td>male</td>\n",
       "      <td>NaN</td>\n",
       "      <td>0</td>\n",
       "      <td>0</td>\n",
       "    </tr>\n",
       "    <tr>\n",
       "      <th>414</th>\n",
       "      <td>1</td>\n",
       "      <td>female</td>\n",
       "      <td>39.0</td>\n",
       "      <td>0</td>\n",
       "      <td>0</td>\n",
       "    </tr>\n",
       "    <tr>\n",
       "      <th>415</th>\n",
       "      <td>3</td>\n",
       "      <td>male</td>\n",
       "      <td>38.5</td>\n",
       "      <td>0</td>\n",
       "      <td>0</td>\n",
       "    </tr>\n",
       "    <tr>\n",
       "      <th>416</th>\n",
       "      <td>3</td>\n",
       "      <td>male</td>\n",
       "      <td>NaN</td>\n",
       "      <td>0</td>\n",
       "      <td>0</td>\n",
       "    </tr>\n",
       "    <tr>\n",
       "      <th>417</th>\n",
       "      <td>3</td>\n",
       "      <td>male</td>\n",
       "      <td>NaN</td>\n",
       "      <td>1</td>\n",
       "      <td>1</td>\n",
       "    </tr>\n",
       "  </tbody>\n",
       "</table>\n",
       "<p>418 rows × 5 columns</p>\n",
       "</div>"
      ],
      "text/plain": [
       "     Pclass     Sex   Age  SibSp  Parch\n",
       "0         3    male  34.5      0      0\n",
       "1         3  female  47.0      1      0\n",
       "2         2    male  62.0      0      0\n",
       "3         3    male  27.0      0      0\n",
       "4         3  female  22.0      1      1\n",
       "..      ...     ...   ...    ...    ...\n",
       "413       3    male   NaN      0      0\n",
       "414       1  female  39.0      0      0\n",
       "415       3    male  38.5      0      0\n",
       "416       3    male   NaN      0      0\n",
       "417       3    male   NaN      1      1\n",
       "\n",
       "[418 rows x 5 columns]"
      ]
     },
     "execution_count": 236,
     "metadata": {},
     "output_type": "execute_result"
    }
   ],
   "source": [
    "x_test"
   ]
  },
  {
   "cell_type": "code",
   "execution_count": 237,
   "id": "8579ca99",
   "metadata": {},
   "outputs": [
    {
     "name": "stderr",
     "output_type": "stream",
     "text": [
      "/tmp/ipykernel_682/814835723.py:1: SettingWithCopyWarning: \n",
      "A value is trying to be set on a copy of a slice from a DataFrame.\n",
      "Try using .loc[row_indexer,col_indexer] = value instead\n",
      "\n",
      "See the caveats in the documentation: https://pandas.pydata.org/pandas-docs/stable/user_guide/indexing.html#returning-a-view-versus-a-copy\n",
      "  x_train[\"Age\"]=x_train[\"Age\"].fillna(30)\n",
      "/tmp/ipykernel_682/814835723.py:2: SettingWithCopyWarning: \n",
      "A value is trying to be set on a copy of a slice from a DataFrame.\n",
      "Try using .loc[row_indexer,col_indexer] = value instead\n",
      "\n",
      "See the caveats in the documentation: https://pandas.pydata.org/pandas-docs/stable/user_guide/indexing.html#returning-a-view-versus-a-copy\n",
      "  x_test[\"Age\"]=x_test[\"Age\"].fillna(30)\n"
     ]
    }
   ],
   "source": [
    "x_train[\"Age\"]=x_train[\"Age\"].fillna(30)\n",
    "x_test[\"Age\"]=x_test[\"Age\"].fillna(30)#mean으로 변경"
   ]
  },
  {
   "cell_type": "code",
   "execution_count": 238,
   "id": "1aa419d0",
   "metadata": {},
   "outputs": [
    {
     "data": {
      "text/plain": [
       "array([[<AxesSubplot:title={'center':'Pclass'}>,\n",
       "        <AxesSubplot:title={'center':'Age'}>],\n",
       "       [<AxesSubplot:title={'center':'SibSp'}>,\n",
       "        <AxesSubplot:title={'center':'Parch'}>]], dtype=object)"
      ]
     },
     "execution_count": 238,
     "metadata": {},
     "output_type": "execute_result"
    },
    {
     "data": {
      "image/png": "[encoded data removed]",
      "text/plain": [
       "<Figure size 432x288 with 4 Axes>"
      ]
     },
     "metadata": {
      "needs_background": "light"
     },
     "output_type": "display_data"
    }
   ],
   "source": [
    "x_train.hist(bins=50)"
   ]
  },
  {
   "cell_type": "code",
   "execution_count": 239,
   "id": "b9e92efe",
   "metadata": {},
   "outputs": [
    {
     "name": "stderr",
     "output_type": "stream",
     "text": [
      "/tmp/ipykernel_682/1061482577.py:1: SettingWithCopyWarning: \n",
      "A value is trying to be set on a copy of a slice from a DataFrame.\n",
      "Try using .loc[row_indexer,col_indexer] = value instead\n",
      "\n",
      "See the caveats in the documentation: https://pandas.pydata.org/pandas-docs/stable/user_guide/indexing.html#returning-a-view-versus-a-copy\n",
      "  x_train[\"Sex\"] = x_train[\"Sex\"].map({'male':0,\n",
      "/tmp/ipykernel_682/1061482577.py:3: SettingWithCopyWarning: \n",
      "A value is trying to be set on a copy of a slice from a DataFrame.\n",
      "Try using .loc[row_indexer,col_indexer] = value instead\n",
      "\n",
      "See the caveats in the documentation: https://pandas.pydata.org/pandas-docs/stable/user_guide/indexing.html#returning-a-view-versus-a-copy\n",
      "  x_test[\"Sex\"] = x_test[\"Sex\"].map({'male':0,\n"
     ]
    }
   ],
   "source": [
    "x_train[\"Sex\"] = x_train[\"Sex\"].map({'male':0,\n",
    "                                     'female':1})\n",
    "x_test[\"Sex\"] = x_test[\"Sex\"].map({'male':0,\n",
    "                                   'female':1})"
   ]
  },
  {
   "cell_type": "code",
   "execution_count": 240,
   "id": "6ae16cbe",
   "metadata": {},
   "outputs": [],
   "source": [
    "min_max_scaler = MinMaxScaler()\n",
    "fitted = min_max_scaler.fit(x_train)\n",
    "x_train = min_max_scaler.transform(x_train)\n",
    "x_test = min_max_scaler.transform(x_test)#"
   ]
  },
  {
   "cell_type": "code",
   "execution_count": 241,
   "id": "687ec88f",
   "metadata": {},
   "outputs": [
    {
     "data": {
      "text/plain": [
       "array([[1.        , 0.        , 0.27117366, 0.125     , 0.        ],\n",
       "       [0.        , 1.        , 0.4722292 , 0.125     , 0.        ],\n",
       "       [1.        , 1.        , 0.32143755, 0.        , 0.        ],\n",
       "       ...,\n",
       "       [1.        , 1.        , 0.37170143, 0.125     , 0.33333333],\n",
       "       [0.        , 0.        , 0.32143755, 0.        , 0.        ],\n",
       "       [1.        , 0.        , 0.39683338, 0.        , 0.        ]])"
      ]
     },
     "execution_count": 241,
     "metadata": {},
     "output_type": "execute_result"
    }
   ],
   "source": [
    "x_train"
   ]
  },
  {
   "cell_type": "code",
   "execution_count": 242,
   "id": "e4570425",
   "metadata": {},
   "outputs": [],
   "source": [
    "#x_train[\"Age\"]=x_train[\"Age\"].fillna(30)"
   ]
  },
  {
   "cell_type": "code",
   "execution_count": 243,
   "id": "627bb414",
   "metadata": {},
   "outputs": [],
   "source": [
    "y_train=y_train.to_numpy()"
   ]
  },
  {
   "cell_type": "code",
   "execution_count": 250,
   "id": "caf0daf0",
   "metadata": {},
   "outputs": [],
   "source": [
    "y_test=y_test.to_numpy()"
   ]
  },
  {
   "cell_type": "code",
   "execution_count": 282,
   "id": "fc53019a",
   "metadata": {},
   "outputs": [],
   "source": [
    "model = tf.keras.models.Sequential([\n",
    "    tf.keras.layers.Dense(8, activation='relu', input_shape=(5,)),\n",
    "    tf.keras.layers.Dense(4, activation='relu'),\n",
    "    tf.keras.layers.Dense(1, activation='sigmoid')    \n",
    "])"
   ]
  },
  {
   "cell_type": "code",
   "execution_count": 283,
   "id": "ac7fbdf4",
   "metadata": {},
   "outputs": [],
   "source": [
    "model.compile(optimizer='adam',\n",
    "              loss='binary_crossentropy',\n",
    "             metrics=['accuracy'])"
   ]
  },
  {
   "cell_type": "code",
   "execution_count": 287,
   "id": "25c9f438",
   "metadata": {},
   "outputs": [
    {
     "name": "stdout",
     "output_type": "stream",
     "text": [
      "Epoch 1/50\n",
      "446/446 [==============================] - 1s 1ms/step - loss: 0.4141 - accuracy: 0.8182\n",
      "Epoch 2/50\n",
      "446/446 [==============================] - 1s 1ms/step - loss: 0.4131 - accuracy: 0.8294\n",
      "Epoch 3/50\n",
      "446/446 [==============================] - 1s 1ms/step - loss: 0.4127 - accuracy: 0.8238\n",
      "Epoch 4/50\n",
      "446/446 [==============================] - 1s 1ms/step - loss: 0.4142 - accuracy: 0.8227\n",
      "Epoch 5/50\n",
      "446/446 [==============================] - 1s 1ms/step - loss: 0.4132 - accuracy: 0.8350\n",
      "Epoch 6/50\n",
      "446/446 [==============================] - 1s 1ms/step - loss: 0.4135 - accuracy: 0.8272\n",
      "Epoch 7/50\n",
      "446/446 [==============================] - 1s 1ms/step - loss: 0.4141 - accuracy: 0.8260\n",
      "Epoch 8/50\n",
      "446/446 [==============================] - 1s 1ms/step - loss: 0.4136 - accuracy: 0.8215\n",
      "Epoch 9/50\n",
      "446/446 [==============================] - 1s 1ms/step - loss: 0.4145 - accuracy: 0.8294\n",
      "Epoch 10/50\n",
      "446/446 [==============================] - 1s 1ms/step - loss: 0.4122 - accuracy: 0.8249\n",
      "Epoch 11/50\n",
      "446/446 [==============================] - 1s 1ms/step - loss: 0.4145 - accuracy: 0.8305\n",
      "Epoch 12/50\n",
      "446/446 [==============================] - 1s 1ms/step - loss: 0.4132 - accuracy: 0.8249\n",
      "Epoch 13/50\n",
      "446/446 [==============================] - 1s 1ms/step - loss: 0.4144 - accuracy: 0.8193\n",
      "Epoch 14/50\n",
      "446/446 [==============================] - 1s 1ms/step - loss: 0.4137 - accuracy: 0.8227\n",
      "Epoch 15/50\n",
      "446/446 [==============================] - 1s 1ms/step - loss: 0.4140 - accuracy: 0.8249\n",
      "Epoch 16/50\n",
      "446/446 [==============================] - 1s 1ms/step - loss: 0.4128 - accuracy: 0.8316\n",
      "Epoch 17/50\n",
      "446/446 [==============================] - 1s 1ms/step - loss: 0.4139 - accuracy: 0.8272\n",
      "Epoch 18/50\n",
      "446/446 [==============================] - 1s 1ms/step - loss: 0.4131 - accuracy: 0.8260\n",
      "Epoch 19/50\n",
      "446/446 [==============================] - 1s 1ms/step - loss: 0.4136 - accuracy: 0.8350\n",
      "Epoch 20/50\n",
      "446/446 [==============================] - 1s 1ms/step - loss: 0.4098 - accuracy: 0.8260\n",
      "Epoch 21/50\n",
      "446/446 [==============================] - 1s 1ms/step - loss: 0.4136 - accuracy: 0.8283\n",
      "Epoch 22/50\n",
      "446/446 [==============================] - 1s 1ms/step - loss: 0.4133 - accuracy: 0.8249\n",
      "Epoch 23/50\n",
      "446/446 [==============================] - 1s 1ms/step - loss: 0.4138 - accuracy: 0.8249\n",
      "Epoch 24/50\n",
      "446/446 [==============================] - 1s 1ms/step - loss: 0.4139 - accuracy: 0.8283\n",
      "Epoch 25/50\n",
      "446/446 [==============================] - 1s 1ms/step - loss: 0.4129 - accuracy: 0.8316\n",
      "Epoch 26/50\n",
      "446/446 [==============================] - 1s 1ms/step - loss: 0.4140 - accuracy: 0.8227\n",
      "Epoch 27/50\n",
      "446/446 [==============================] - 1s 1ms/step - loss: 0.4127 - accuracy: 0.8249\n",
      "Epoch 28/50\n",
      "446/446 [==============================] - 1s 1ms/step - loss: 0.4132 - accuracy: 0.8272\n",
      "Epoch 29/50\n",
      "446/446 [==============================] - 1s 1ms/step - loss: 0.4112 - accuracy: 0.8272\n",
      "Epoch 30/50\n",
      "446/446 [==============================] - 1s 1ms/step - loss: 0.4131 - accuracy: 0.8294\n",
      "Epoch 31/50\n",
      "446/446 [==============================] - 1s 1ms/step - loss: 0.4121 - accuracy: 0.8283\n",
      "Epoch 32/50\n",
      "446/446 [==============================] - 1s 1ms/step - loss: 0.4155 - accuracy: 0.8249\n",
      "Epoch 33/50\n",
      "446/446 [==============================] - 1s 1ms/step - loss: 0.4119 - accuracy: 0.8260\n",
      "Epoch 34/50\n",
      "446/446 [==============================] - 1s 1ms/step - loss: 0.4133 - accuracy: 0.8260\n",
      "Epoch 35/50\n",
      "446/446 [==============================] - 1s 1ms/step - loss: 0.4113 - accuracy: 0.8316\n",
      "Epoch 36/50\n",
      "446/446 [==============================] - 1s 1ms/step - loss: 0.4126 - accuracy: 0.8305\n",
      "Epoch 37/50\n",
      "446/446 [==============================] - 1s 1ms/step - loss: 0.4115 - accuracy: 0.8294\n",
      "Epoch 38/50\n",
      "446/446 [==============================] - 1s 1ms/step - loss: 0.4131 - accuracy: 0.8316\n",
      "Epoch 39/50\n",
      "446/446 [==============================] - 1s 2ms/step - loss: 0.4136 - accuracy: 0.8249\n",
      "Epoch 40/50\n",
      "446/446 [==============================] - 1s 2ms/step - loss: 0.4115 - accuracy: 0.8249\n",
      "Epoch 41/50\n",
      "446/446 [==============================] - 1s 1ms/step - loss: 0.4137 - accuracy: 0.8316\n",
      "Epoch 42/50\n",
      "446/446 [==============================] - 1s 2ms/step - loss: 0.4128 - accuracy: 0.8294\n",
      "Epoch 43/50\n",
      "446/446 [==============================] - 1s 1ms/step - loss: 0.4112 - accuracy: 0.8272\n",
      "Epoch 44/50\n",
      "446/446 [==============================] - 1s 1ms/step - loss: 0.4111 - accuracy: 0.8316\n",
      "Epoch 45/50\n",
      "446/446 [==============================] - 1s 1ms/step - loss: 0.4106 - accuracy: 0.8316\n",
      "Epoch 46/50\n",
      "446/446 [==============================] - 1s 1ms/step - loss: 0.4113 - accuracy: 0.8215\n",
      "Epoch 47/50\n",
      "446/446 [==============================] - 1s 1ms/step - loss: 0.4122 - accuracy: 0.8238\n",
      "Epoch 48/50\n",
      "446/446 [==============================] - 1s 1ms/step - loss: 0.4125 - accuracy: 0.8294\n",
      "Epoch 49/50\n",
      "446/446 [==============================] - 1s 1ms/step - loss: 0.4118 - accuracy: 0.8305\n",
      "Epoch 50/50\n",
      "446/446 [==============================] - 1s 1ms/step - loss: 0.4127 - accuracy: 0.8294\n"
     ]
    },
    {
     "data": {
      "text/plain": [
       "<keras.callbacks.History at 0x7f3036d5d7c0>"
      ]
     },
     "execution_count": 287,
     "metadata": {},
     "output_type": "execute_result"
    }
   ],
   "source": [
    "model.fit(x_train, y_train, epochs=50, batch_size=2)"
   ]
  },
  {
   "cell_type": "code",
   "execution_count": 288,
   "id": "ab97c618",
   "metadata": {
    "scrolled": true
   },
   "outputs": [
    {
     "name": "stdout",
     "output_type": "stream",
     "text": [
      "14/14 - 0s - loss: 0.2991 - accuracy: 0.9187 - 33ms/epoch - 2ms/step\n"
     ]
    },
    {
     "data": {
      "text/plain": [
       "[0.2991161346435547, 0.9186602830886841]"
      ]
     },
     "execution_count": 288,
     "metadata": {},
     "output_type": "execute_result"
    }
   ],
   "source": [
    "model.evaluate(x_test,y_test, verbose=2)"
   ]
  },
  {
   "cell_type": "code",
   "execution_count": null,
   "id": "611d8aeb",
   "metadata": {},
   "outputs": [],
   "source": []
  },
  {
   "cell_type": "code",
   "execution_count": null,
   "id": "ec2672e8",
   "metadata": {},
   "outputs": [],
   "source": []
  }
 ],
 "metadata": {
  "kernelspec": {
   "display_name": "Python 3 (ipykernel)",
   "language": "python",
   "name": "python3"
  },
  "language_info": {
   "codemirror_mode": {
    "name": "ipython",
    "version": 3
   },
   "file_extension": ".py",
   "mimetype": "text/x-python",
   "name": "python",
   "nbconvert_exporter": "python",
   "pygments_lexer": "ipython3",
   "version": "3.8.10"
  }
 },
 "nbformat": 4,
 "nbformat_minor": 5
}
